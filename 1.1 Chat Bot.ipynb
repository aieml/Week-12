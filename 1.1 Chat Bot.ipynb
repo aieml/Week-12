{
 "cells": [
  {
   "cell_type": "code",
   "execution_count": 1,
   "metadata": {
    "scrolled": true
   },
   "outputs": [
    {
     "name": "stderr",
     "output_type": "stream",
     "text": [
      "Using TensorFlow backend.\n",
      "J:\\Anaconda3\\lib\\site-packages\\ipykernel_launcher.py:6: UserWarning: Update your `LSTM` call to the Keras 2 API: `LSTM(input_shape=(15, 300), return_sequences=True, activation=\"sigmoid\", units=300, kernel_initializer=\"glorot_normal\", recurrent_initializer=\"glorot_normal\")`\n",
      "  \n",
      "J:\\Anaconda3\\lib\\site-packages\\ipykernel_launcher.py:7: UserWarning: Update your `LSTM` call to the Keras 2 API: `LSTM(input_shape=(15, 300), return_sequences=True, activation=\"sigmoid\", units=300, kernel_initializer=\"glorot_normal\", recurrent_initializer=\"glorot_normal\")`\n",
      "  import sys\n",
      "J:\\Anaconda3\\lib\\site-packages\\ipykernel_launcher.py:8: UserWarning: Update your `LSTM` call to the Keras 2 API: `LSTM(input_shape=(15, 300), return_sequences=True, activation=\"sigmoid\", units=300, kernel_initializer=\"glorot_normal\", recurrent_initializer=\"glorot_normal\")`\n",
      "  \n",
      "J:\\Anaconda3\\lib\\site-packages\\ipykernel_launcher.py:9: UserWarning: Update your `LSTM` call to the Keras 2 API: `LSTM(input_shape=(15, 300), return_sequences=True, activation=\"sigmoid\", units=300, kernel_initializer=\"glorot_normal\", recurrent_initializer=\"glorot_normal\")`\n",
      "  if __name__ == '__main__':\n"
     ]
    }
   ],
   "source": [
    "from keras.models import Sequential\n",
    "from keras.layers.recurrent import LSTM,SimpleRNN\n",
    "\n",
    "model=Sequential()\n",
    "\n",
    "model.add(LSTM(output_dim=300,input_shape=(15,300),return_sequences=True,init='glorot_normal',inner_init='glorot_normal',activation='sigmoid'))\n",
    "model.add(LSTM(output_dim=300,input_shape=(15,300),return_sequences=True,init='glorot_normal',inner_init='glorot_normal',activation='sigmoid'))\n",
    "model.add(LSTM(output_dim=300,input_shape=(15,300),return_sequences=True,init='glorot_normal',inner_init='glorot_normal',activation='sigmoid'))\n",
    "model.add(LSTM(output_dim=300,input_shape=(15,300),return_sequences=True,init='glorot_normal',inner_init='glorot_normal',activation='sigmoid'))\n",
    "\n",
    "model.compile(loss='cosine_proximity',optimizer='adam',metrics=['accuracy'])\n",
    "\n",
    "model.load_weights('chatbot_weights.h5')"
   ]
  },
  {
   "cell_type": "code",
   "execution_count": 2,
   "metadata": {},
   "outputs": [
    {
     "name": "stderr",
     "output_type": "stream",
     "text": [
      "J:\\Anaconda3\\lib\\site-packages\\smart_open\\ssh.py:34: UserWarning: paramiko missing, opening SSH/SCP/SFTP paths will be disabled.  `pip install paramiko` to suppress\n",
      "  warnings.warn('paramiko missing, opening SSH/SCP/SFTP paths will be disabled.  `pip install paramiko` to suppress')\n",
      "J:\\Anaconda3\\lib\\site-packages\\gensim\\utils.py:862: UserWarning: detected Windows; aliasing chunkize to chunkize_serial\n",
      "  warnings.warn(\"detected Windows; aliasing chunkize to chunkize_serial\")\n"
     ]
    }
   ],
   "source": [
    "from gensim import models\n",
    "\n",
    "model_w2v=models.Word2Vec.load('H:/word2vec.bin')"
   ]
  },
  {
   "cell_type": "code",
   "execution_count": null,
   "metadata": {},
   "outputs": [
    {
     "name": "stdout",
     "output_type": "stream",
     "text": [
      "Enter the msg:Hello\n",
      "that that you ? veediya veediya veediya veediya veediya veediya veediya veediya veediya veediya veediya \n",
      "\n",
      "Enter the msg:how are you\n",
      "that that that that that that that that that that that that that veediya veediya \n",
      "\n"
     ]
    }
   ],
   "source": [
    "import nltk\n",
    "import numpy as np\n",
    "\n",
    "sentence_end=np.ones((300,),dtype=np.float32)\n",
    "\n",
    "while(True):\n",
    "    \n",
    "    msg=input('Enter the msg:')\n",
    "    sentence_tok=nltk.word_tokenize(msg.lower()) #lower for all simple letters\n",
    "    sentence_vec=[model_w2v[word] for word in sentence_tok if word in model_w2v.vocab]\n",
    "    \n",
    "    sentence_vec[14:]=[]\n",
    "    sentence_vec.append(sentence_end)\n",
    "    \n",
    "    if len(sentence_vec)<15:\n",
    "        for i in range(15-len(sentence_vec)):\n",
    "            sentence_vec.append(sentence_end)\n",
    "    \n",
    "    sentence_vec=np.array([sentence_vec])\n",
    "    \n",
    "    result=model.predict(sentence_vec)\n",
    "    out_msg=[model_w2v.most_similar([result[0][i]])[0][0] for i in range(15)]\n",
    "    out_msg=' '.join(out_msg)\n",
    "    print(out_msg,'\\n')"
   ]
  },
  {
   "cell_type": "code",
   "execution_count": null,
   "metadata": {},
   "outputs": [],
   "source": []
  }
 ],
 "metadata": {
  "kernelspec": {
   "display_name": "Python 3",
   "language": "python",
   "name": "python3"
  },
  "language_info": {
   "codemirror_mode": {
    "name": "ipython",
    "version": 3
   },
   "file_extension": ".py",
   "mimetype": "text/x-python",
   "name": "python",
   "nbconvert_exporter": "python",
   "pygments_lexer": "ipython3",
   "version": "3.6.8"
  }
 },
 "nbformat": 4,
 "nbformat_minor": 2
}
